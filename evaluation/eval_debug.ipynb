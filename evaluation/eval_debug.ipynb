{
 "cells": [
  {
   "cell_type": "code",
   "execution_count": 7,
   "id": "ad08cdd8",
   "metadata": {},
   "outputs": [
    {
     "name": "stdout",
     "output_type": "stream",
     "text": [
      "True\n",
      "Loading models...\n"
     ]
    },
    {
     "ename": "NameError",
     "evalue": "name 'build_inn' is not defined",
     "output_type": "error",
     "traceback": [
      "\u001b[1;31m---------------------------------------------------------------------------\u001b[0m",
      "\u001b[1;31mNameError\u001b[0m                                 Traceback (most recent call last)",
      "Cell \u001b[1;32mIn[7], line 13\u001b[0m\n\u001b[0;32m     10\u001b[0m \u001b[38;5;28;01mfrom\u001b[39;00m \u001b[38;5;21;01mtraining\u001b[39;00m\u001b[38;5;21;01m.\u001b[39;00m\u001b[38;5;21;01mtrain_conv_vae\u001b[39;00m \u001b[38;5;28;01mimport\u001b[39;00m ConvVAE\n\u001b[0;32m     12\u001b[0m \u001b[38;5;28;01mfrom\u001b[39;00m \u001b[38;5;21;01mcompress_decompress_v2\u001b[39;00m \u001b[38;5;28;01mimport\u001b[39;00m decompress_and_compare\n\u001b[1;32m---> 13\u001b[0m \u001b[43mdecompress_and_compare\u001b[49m\u001b[43m(\u001b[49m\u001b[43m)\u001b[49m\n",
      "File \u001b[1;32mc:\\Users\\ievas\\Desktop\\UNI\\00 SEMESTERS\\SoSe25\\Project Seminar Biomedical Image Analysis\\DL_compression\\evaluation\\compress_decompress_v2.py:71\u001b[0m, in \u001b[0;36mdecompress_and_compare\u001b[1;34m()\u001b[0m\n\u001b[0;32m     69\u001b[0m \u001b[38;5;28;01mdef\u001b[39;00m \u001b[38;5;21mdecompress_and_compare\u001b[39m():\n\u001b[0;32m     70\u001b[0m     \u001b[38;5;28mprint\u001b[39m(\u001b[38;5;124m\"\u001b[39m\u001b[38;5;124mLoading models...\u001b[39m\u001b[38;5;124m\"\u001b[39m)\n\u001b[1;32m---> 71\u001b[0m     inn_model \u001b[38;5;241m=\u001b[39m \u001b[43mbuild_inn\u001b[49m(channels\u001b[38;5;241m=\u001b[39m\u001b[38;5;241m3\u001b[39m, height\u001b[38;5;241m=\u001b[39m\u001b[38;5;241m64\u001b[39m, width\u001b[38;5;241m=\u001b[39m\u001b[38;5;241m64\u001b[39m)\u001b[38;5;241m.\u001b[39mto(DEVICE)\n\u001b[0;32m     72\u001b[0m     inn_model\u001b[38;5;241m.\u001b[39mload_state_dict(torch\u001b[38;5;241m.\u001b[39mload(\u001b[38;5;124m\"\u001b[39m\u001b[38;5;124mC:\u001b[39m\u001b[38;5;130;01m\\\\\u001b[39;00m\u001b[38;5;124mUsers\u001b[39m\u001b[38;5;130;01m\\\\\u001b[39;00m\u001b[38;5;124mievas\u001b[39m\u001b[38;5;130;01m\\\\\u001b[39;00m\u001b[38;5;124mDesktop\u001b[39m\u001b[38;5;130;01m\\\\\u001b[39;00m\u001b[38;5;124mUNI\u001b[39m\u001b[38;5;130;01m\\\\\u001b[39;00m\u001b[38;5;124m00 SEMESTERS\u001b[39m\u001b[38;5;130;01m\\\\\u001b[39;00m\u001b[38;5;124mSoSe25\u001b[39m\u001b[38;5;130;01m\\\\\u001b[39;00m\u001b[38;5;124mProject Seminar Biomedical Image Analysis\u001b[39m\u001b[38;5;130;01m\\\\\u001b[39;00m\u001b[38;5;124mdata\u001b[39m\u001b[38;5;130;01m\\\\\u001b[39;00m\u001b[38;5;124mcheckpoints\u001b[39m\u001b[38;5;130;01m\\\\\u001b[39;00m\u001b[38;5;124minn_model_rgb.pth\u001b[39m\u001b[38;5;124m\"\u001b[39m, map_location\u001b[38;5;241m=\u001b[39mDEVICE))\n\u001b[0;32m     73\u001b[0m     inn_model\u001b[38;5;241m.\u001b[39meval()\n",
      "\u001b[1;31mNameError\u001b[0m: name 'build_inn' is not defined"
     ]
    }
   ],
   "source": [
    "import sys\n",
    "import os\n",
    "current_dir = os.getcwd()\n",
    "\n",
    "inn_vae_path = 'C:\\\\Users\\\\ievas\\\\Desktop\\\\UNI\\\\00 SEMESTERS\\\\SoSe25\\\\Project Seminar Biomedical Image Analysis\\\\DL_compression\\\\INN_VAE'\n",
    "sys.path.append(inn_vae_path)\n",
    "print(inn_vae_path in sys.path)\n",
    "\n",
    "from models.inn import build_inn\n",
    "from training.train_conv_vae import ConvVAE\n",
    "\n",
    "from compress_decompress_v2 import decompress_and_compare\n",
    "decompress_and_compare()\n"
   ]
  }
 ],
 "metadata": {
  "kernelspec": {
   "display_name": "cancerproj_env",
   "language": "python",
   "name": "python3"
  },
  "language_info": {
   "codemirror_mode": {
    "name": "ipython",
    "version": 3
   },
   "file_extension": ".py",
   "mimetype": "text/x-python",
   "name": "python",
   "nbconvert_exporter": "python",
   "pygments_lexer": "ipython3",
   "version": "3.10.4"
  }
 },
 "nbformat": 4,
 "nbformat_minor": 5
}
