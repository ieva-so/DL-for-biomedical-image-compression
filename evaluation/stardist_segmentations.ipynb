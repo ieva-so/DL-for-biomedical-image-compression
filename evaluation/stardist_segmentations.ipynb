{
 "cells": [
  {
   "cell_type": "code",
   "execution_count": 8,
   "id": "ff5458ba",
   "metadata": {},
   "outputs": [
    {
     "name": "stderr",
     "output_type": "stream",
     "text": [
      "\n",
      "A module that was compiled using NumPy 1.x cannot be run in\n",
      "NumPy 2.1.3 as it may crash. To support both 1.x and 2.x\n",
      "versions of NumPy, modules must be compiled with NumPy 2.0.\n",
      "Some module may need to rebuild instead e.g. with 'pybind11>=2.12'.\n",
      "\n",
      "If you are a user of the module, the easiest solution will be to\n",
      "downgrade to 'numpy<2' or try to upgrade the affected module.\n",
      "We expect that some modules will need time to support NumPy 2.\n",
      "\n",
      "Traceback (most recent call last):  File \"c:\\Users\\ievas\\anaconda3\\envs\\cancerproj_env\\lib\\runpy.py\", line 196, in _run_module_as_main\n",
      "    return _run_code(code, main_globals, None,\n",
      "  File \"c:\\Users\\ievas\\anaconda3\\envs\\cancerproj_env\\lib\\runpy.py\", line 86, in _run_code\n",
      "    exec(code, run_globals)\n",
      "  File \"c:\\Users\\ievas\\anaconda3\\envs\\cancerproj_env\\lib\\site-packages\\ipykernel_launcher.py\", line 17, in <module>\n",
      "    app.launch_new_instance()\n",
      "  File \"c:\\Users\\ievas\\anaconda3\\envs\\cancerproj_env\\lib\\site-packages\\traitlets\\config\\application.py\", line 1075, in launch_instance\n",
      "    app.start()\n",
      "  File \"c:\\Users\\ievas\\anaconda3\\envs\\cancerproj_env\\lib\\site-packages\\ipykernel\\kernelapp.py\", line 712, in start\n",
      "    self.io_loop.start()\n",
      "  File \"c:\\Users\\ievas\\anaconda3\\envs\\cancerproj_env\\lib\\site-packages\\tornado\\platform\\asyncio.py\", line 199, in start\n",
      "    self.asyncio_loop.run_forever()\n",
      "  File \"c:\\Users\\ievas\\anaconda3\\envs\\cancerproj_env\\lib\\asyncio\\base_events.py\", line 600, in run_forever\n",
      "    self._run_once()\n",
      "  File \"c:\\Users\\ievas\\anaconda3\\envs\\cancerproj_env\\lib\\asyncio\\base_events.py\", line 1896, in _run_once\n",
      "    handle._run()\n",
      "  File \"c:\\Users\\ievas\\anaconda3\\envs\\cancerproj_env\\lib\\asyncio\\events.py\", line 80, in _run\n",
      "    self._context.run(self._callback, *self._args)\n",
      "  File \"c:\\Users\\ievas\\anaconda3\\envs\\cancerproj_env\\lib\\site-packages\\ipykernel\\kernelbase.py\", line 504, in dispatch_queue\n",
      "    await self.process_one()\n",
      "  File \"c:\\Users\\ievas\\anaconda3\\envs\\cancerproj_env\\lib\\site-packages\\ipykernel\\kernelbase.py\", line 493, in process_one\n",
      "    await dispatch(*args)\n",
      "  File \"c:\\Users\\ievas\\anaconda3\\envs\\cancerproj_env\\lib\\site-packages\\ipykernel\\kernelbase.py\", line 400, in dispatch_shell\n",
      "    await result\n",
      "  File \"c:\\Users\\ievas\\anaconda3\\envs\\cancerproj_env\\lib\\site-packages\\ipykernel\\kernelbase.py\", line 724, in execute_request\n",
      "    reply_content = await reply_content\n",
      "  File \"c:\\Users\\ievas\\anaconda3\\envs\\cancerproj_env\\lib\\site-packages\\ipykernel\\ipkernel.py\", line 383, in do_execute\n",
      "    res = shell.run_cell(\n",
      "  File \"c:\\Users\\ievas\\anaconda3\\envs\\cancerproj_env\\lib\\site-packages\\ipykernel\\zmqshell.py\", line 528, in run_cell\n",
      "    return super().run_cell(*args, **kwargs)\n",
      "  File \"c:\\Users\\ievas\\anaconda3\\envs\\cancerproj_env\\lib\\site-packages\\IPython\\core\\interactiveshell.py\", line 2940, in run_cell\n",
      "    result = self._run_cell(\n",
      "  File \"c:\\Users\\ievas\\anaconda3\\envs\\cancerproj_env\\lib\\site-packages\\IPython\\core\\interactiveshell.py\", line 2995, in _run_cell\n",
      "    return runner(coro)\n",
      "  File \"c:\\Users\\ievas\\anaconda3\\envs\\cancerproj_env\\lib\\site-packages\\IPython\\core\\async_helpers.py\", line 129, in _pseudo_sync_runner\n",
      "    coro.send(None)\n",
      "  File \"c:\\Users\\ievas\\anaconda3\\envs\\cancerproj_env\\lib\\site-packages\\IPython\\core\\interactiveshell.py\", line 3194, in run_cell_async\n",
      "    has_raised = await self.run_ast_nodes(code_ast.body, cell_name,\n",
      "  File \"c:\\Users\\ievas\\anaconda3\\envs\\cancerproj_env\\lib\\site-packages\\IPython\\core\\interactiveshell.py\", line 3373, in run_ast_nodes\n",
      "    if await self.run_code(code, result, async_=asy):\n",
      "  File \"c:\\Users\\ievas\\anaconda3\\envs\\cancerproj_env\\lib\\site-packages\\IPython\\core\\interactiveshell.py\", line 3433, in run_code\n",
      "    exec(code_obj, self.user_global_ns, self.user_ns)\n",
      "  File \"C:\\Users\\ievas\\AppData\\Local\\Temp\\ipykernel_3896\\1733908968.py\", line 1, in <module>\n",
      "    from stardist.models import StarDist2D\n",
      "  File \"c:\\Users\\ievas\\anaconda3\\envs\\cancerproj_env\\lib\\site-packages\\stardist\\__init__.py\", line 15, in <module>\n",
      "    from .geometry import star_dist,   polygons_to_label,   relabel_image_stardist, ray_angles, dist_to_coord\n",
      "  File \"c:\\Users\\ievas\\anaconda3\\envs\\cancerproj_env\\lib\\site-packages\\stardist\\geometry\\__init__.py\", line 5, in <module>\n",
      "    from .geom2d import star_dist, relabel_image_stardist, ray_angles, dist_to_coord, polygons_to_label, polygons_to_label_coord\n",
      "  File \"c:\\Users\\ievas\\anaconda3\\envs\\cancerproj_env\\lib\\site-packages\\stardist\\geometry\\geom2d.py\", line 11, in <module>\n",
      "    from ..lib.stardist2d import c_star_dist\n"
     ]
    },
    {
     "ename": "AttributeError",
     "evalue": "_ARRAY_API not found",
     "output_type": "error",
     "traceback": [
      "\u001b[1;31m---------------------------------------------------------------------------\u001b[0m",
      "\u001b[1;31mAttributeError\u001b[0m                            Traceback (most recent call last)",
      "\u001b[1;31mAttributeError\u001b[0m: _ARRAY_API not found"
     ]
    },
    {
     "ename": "ImportError",
     "evalue": "numpy.core.multiarray failed to import",
     "output_type": "error",
     "traceback": [
      "\u001b[1;31m---------------------------------------------------------------------------\u001b[0m",
      "\u001b[1;31mImportError\u001b[0m                               Traceback (most recent call last)",
      "Cell \u001b[1;32mIn[8], line 1\u001b[0m\n\u001b[1;32m----> 1\u001b[0m \u001b[38;5;28;01mfrom\u001b[39;00m \u001b[38;5;21;01mstardist\u001b[39;00m\u001b[38;5;21;01m.\u001b[39;00m\u001b[38;5;21;01mmodels\u001b[39;00m \u001b[38;5;28;01mimport\u001b[39;00m StarDist2D\n\u001b[0;32m      3\u001b[0m \u001b[38;5;66;03m# prints a list of available models\u001b[39;00m\n\u001b[0;32m      4\u001b[0m StarDist2D\u001b[38;5;241m.\u001b[39mfrom_pretrained()\n",
      "File \u001b[1;32mc:\\Users\\ievas\\anaconda3\\envs\\cancerproj_env\\lib\\site-packages\\stardist\\__init__.py:15\u001b[0m\n\u001b[0;32m     13\u001b[0m \u001b[38;5;28;01mfrom\u001b[39;00m \u001b[38;5;21;01m.\u001b[39;00m\u001b[38;5;21;01mnms\u001b[39;00m \u001b[38;5;28;01mimport\u001b[39;00m non_maximum_suppression, non_maximum_suppression_3d, non_maximum_suppression_3d_sparse\n\u001b[0;32m     14\u001b[0m \u001b[38;5;28;01mfrom\u001b[39;00m \u001b[38;5;21;01m.\u001b[39;00m\u001b[38;5;21;01mutils\u001b[39;00m \u001b[38;5;28;01mimport\u001b[39;00m edt_prob, fill_label_holes, sample_points, calculate_extents, export_imagej_rois, gputools_available\n\u001b[1;32m---> 15\u001b[0m \u001b[38;5;28;01mfrom\u001b[39;00m \u001b[38;5;21;01m.\u001b[39;00m\u001b[38;5;21;01mgeometry\u001b[39;00m \u001b[38;5;28;01mimport\u001b[39;00m star_dist,   polygons_to_label,   relabel_image_stardist, ray_angles, dist_to_coord\n\u001b[0;32m     16\u001b[0m \u001b[38;5;28;01mfrom\u001b[39;00m \u001b[38;5;21;01m.\u001b[39;00m\u001b[38;5;21;01mgeometry\u001b[39;00m \u001b[38;5;28;01mimport\u001b[39;00m star_dist3D, polyhedron_to_label, relabel_image_stardist3D\n\u001b[0;32m     17\u001b[0m \u001b[38;5;28;01mfrom\u001b[39;00m \u001b[38;5;21;01m.\u001b[39;00m\u001b[38;5;21;01mplot\u001b[39;00m\u001b[38;5;21;01m.\u001b[39;00m\u001b[38;5;21;01mplot\u001b[39;00m \u001b[38;5;28;01mimport\u001b[39;00m random_label_cmap, draw_polygons, _draw_polygons\n",
      "File \u001b[1;32mc:\\Users\\ievas\\anaconda3\\envs\\cancerproj_env\\lib\\site-packages\\stardist\\geometry\\__init__.py:5\u001b[0m\n\u001b[0;32m      1\u001b[0m \u001b[38;5;28;01mfrom\u001b[39;00m \u001b[38;5;21;01m__future__\u001b[39;00m \u001b[38;5;28;01mimport\u001b[39;00m absolute_import, print_function\n\u001b[0;32m      3\u001b[0m \u001b[38;5;66;03m# TODO: rethink naming for 2D/3D functions\u001b[39;00m\n\u001b[1;32m----> 5\u001b[0m \u001b[38;5;28;01mfrom\u001b[39;00m \u001b[38;5;21;01m.\u001b[39;00m\u001b[38;5;21;01mgeom2d\u001b[39;00m \u001b[38;5;28;01mimport\u001b[39;00m star_dist, relabel_image_stardist, ray_angles, dist_to_coord, polygons_to_label, polygons_to_label_coord\n\u001b[0;32m      6\u001b[0m \u001b[38;5;28;01mfrom\u001b[39;00m \u001b[38;5;21;01m.\u001b[39;00m\u001b[38;5;21;01mgeom3d\u001b[39;00m \u001b[38;5;28;01mimport\u001b[39;00m star_dist3D, polyhedron_to_label, relabel_image_stardist3D, dist_to_coord3D, export_to_obj_file3D\n\u001b[0;32m      8\u001b[0m \u001b[38;5;28;01mfrom\u001b[39;00m \u001b[38;5;21;01m.\u001b[39;00m\u001b[38;5;21;01mgeom2d\u001b[39;00m \u001b[38;5;28;01mimport\u001b[39;00m _dist_to_coord_old, _polygons_to_label_old\n",
      "File \u001b[1;32mc:\\Users\\ievas\\anaconda3\\envs\\cancerproj_env\\lib\\site-packages\\stardist\\geometry\\geom2d.py:11\u001b[0m\n\u001b[0;32m      9\u001b[0m \u001b[38;5;28;01mfrom\u001b[39;00m \u001b[38;5;21;01m.\u001b[39;00m\u001b[38;5;21;01m.\u001b[39;00m\u001b[38;5;21;01mutils\u001b[39;00m \u001b[38;5;28;01mimport\u001b[39;00m path_absolute, _is_power_of_2, _normalize_grid\n\u001b[0;32m     10\u001b[0m \u001b[38;5;28;01mfrom\u001b[39;00m \u001b[38;5;21;01m.\u001b[39;00m\u001b[38;5;21;01m.\u001b[39;00m\u001b[38;5;21;01mmatching\u001b[39;00m \u001b[38;5;28;01mimport\u001b[39;00m _check_label_array\n\u001b[1;32m---> 11\u001b[0m \u001b[38;5;28;01mfrom\u001b[39;00m \u001b[38;5;21;01m.\u001b[39;00m\u001b[38;5;21;01m.\u001b[39;00m\u001b[38;5;21;01mlib\u001b[39;00m\u001b[38;5;21;01m.\u001b[39;00m\u001b[38;5;21;01mstardist2d\u001b[39;00m \u001b[38;5;28;01mimport\u001b[39;00m c_star_dist\n\u001b[0;32m     15\u001b[0m \u001b[38;5;28;01mdef\u001b[39;00m \u001b[38;5;21m_ocl_star_dist\u001b[39m(lbl, n_rays\u001b[38;5;241m=\u001b[39m\u001b[38;5;241m32\u001b[39m, grid\u001b[38;5;241m=\u001b[39m(\u001b[38;5;241m1\u001b[39m,\u001b[38;5;241m1\u001b[39m)):\n\u001b[0;32m     16\u001b[0m     \u001b[38;5;28;01mfrom\u001b[39;00m \u001b[38;5;21;01mgputools\u001b[39;00m \u001b[38;5;28;01mimport\u001b[39;00m OCLProgram, OCLArray, OCLImage\n",
      "\u001b[1;31mImportError\u001b[0m: numpy.core.multiarray failed to import"
     ]
    }
   ],
   "source": [
    "from stardist.models import StarDist2D\n",
    "\n",
    "# prints a list of available models\n",
    "StarDist2D.from_pretrained()\n",
    "\n",
    "# creates a pretrained model\n",
    "model = StarDist2D.from_pretrained('2D_versatile_he') #for histopath images"
   ]
  },
  {
   "cell_type": "code",
   "execution_count": null,
   "id": "e2022ea7",
   "metadata": {},
   "outputs": [],
   "source": [
    "from stardist.data import test_image_nuclei_2d\n",
    "from stardist.plot import render_label\n",
    "from csbdeep.utils import normalize\n",
    "import matplotlib.pyplot as plt\n",
    "\n",
    "img = test_image_nuclei_2d()\n",
    "\n",
    "labels, _ = model.predict_instances(normalize(img))\n",
    "\n",
    "plt.subplot(1,2,1)\n",
    "plt.imshow(img, cmap=\"gray\")\n",
    "plt.axis(\"off\")\n",
    "plt.title(\"input image\")\n",
    "\n",
    "plt.subplot(1,2,2)\n",
    "plt.imshow(render_label(labels, img=img))\n",
    "plt.axis(\"off\")\n",
    "plt.title(\"prediction + input overlay\")"
   ]
  },
  {
   "cell_type": "code",
   "execution_count": null,
   "id": "bbaf0952",
   "metadata": {},
   "outputs": [],
   "source": []
  }
 ],
 "metadata": {
  "kernelspec": {
   "display_name": "cancerproj_env",
   "language": "python",
   "name": "python3"
  },
  "language_info": {
   "codemirror_mode": {
    "name": "ipython",
    "version": 3
   },
   "file_extension": ".py",
   "mimetype": "text/x-python",
   "name": "python",
   "nbconvert_exporter": "python",
   "pygments_lexer": "ipython3",
   "version": "3.10.4"
  }
 },
 "nbformat": 4,
 "nbformat_minor": 5
}
