{
 "cells": [
  {
   "cell_type": "code",
   "execution_count": null,
   "id": "28b4e864",
   "metadata": {},
   "outputs": [],
   "source": [
    "import numpy as np\n",
    "import skimage\n",
    "import matplotlib.pyplot as plt\n",
    "import os"
   ]
  },
  {
   "cell_type": "code",
   "execution_count": null,
   "id": "48a7f2c7",
   "metadata": {},
   "outputs": [],
   "source": [
    "gt_seg = io.imread(\"original_image_segmented.tiff\")\n",
    "decom_seg = io.imread(\"decompressed_image_segmented.tiff\")\n",
    "\n",
    "dsc = skimage.metrics.f1_score(gt_seg.flatten(), decom_seg.flatten(), average='macro')"
   ]
  }
 ],
 "metadata": {
  "language_info": {
   "name": "python"
  }
 },
 "nbformat": 4,
 "nbformat_minor": 5
}
