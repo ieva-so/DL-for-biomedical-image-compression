{
 "cells": [
  {
   "cell_type": "code",
   "execution_count": 16,
   "id": "b88333a8",
   "metadata": {},
   "outputs": [],
   "source": [
    "\n",
    "import numpy as np\n",
    "import skimage\n",
    "from skimage import io, filters, color, measure\n",
    "import matplotlib.pyplot as plt\n",
    "import os\n",
    "import cv2\n",
    "\n"
   ]
  },
  {
   "cell_type": "code",
   "execution_count": 14,
   "id": "4e3aee42",
   "metadata": {},
   "outputs": [],
   "source": [
    "def get_psnr(original_img_arr, decoded_img_arr, ignore=None):\n",
    "    # Calculate the maximum data value\n",
    "    maximumDataValue = np.maximum(np.amax(original_img_arr), np.amax(decoded_img_arr))\n",
    "    d1 = original_img_arr.flatten()\n",
    "    d2 = decoded_img_arr.flatten()\n",
    "\n",
    "    # Make sure that the provided data sets are the same size\n",
    "    if d1.size != d2.size:\n",
    "        raise ValueError('Provided datasets must have the same size/shape')\n",
    "\n",
    "    # Check if the provided data sets are identical, and if so, return an\n",
    "    # infinite peak-signal-to-noise ratio\n",
    "    if np.array_equal(d1, d2):\n",
    "        return float('inf')\n",
    "\n",
    "    # If specified, remove the values to ignore from the analysis and compute\n",
    "    # the element-wise difference between the data sets\n",
    "    if ignore is not None:\n",
    "        index = np.intersect1d(np.where(d1 != ignore)[0], \n",
    "                                    np.where(d2 != ignore)[0])\n",
    "        error = d1[index].astype(np.float64) - d2[index].astype(np.float64)\n",
    "    else:\n",
    "        error = d1.astype(np.float64)-d2.astype(np.float64)\n",
    "\n",
    "    # Compute the mean-squared error\n",
    "    meanSquaredError = np.sum(error**2) / error.size\n",
    "\n",
    "    # Return the peak-signal-to-noise ratio\n",
    "    return 10.0 * np.log10(maximumDataValue**2 / meanSquaredError)"
   ]
  },
  {
   "cell_type": "code",
   "execution_count": 23,
   "id": "afb22d7b",
   "metadata": {},
   "outputs": [],
   "source": [
    "true_path =r'C:\\Users\\ievas\\Desktop\\UNI\\00 SEMESTERS\\SoSe25\\Project Seminar Biomedical Image Analysis\\DL_compression\\datasets\\EMPIAR-12592\\empiar-12592-0000-0900\\12592\\data\\scan 5 part 1 0000.tif'\n",
    "com_path = true_path\n",
    "decom_path = true_path\n",
    "\n",
    "true_im = cv2.imread(true_path)\n",
    "\n",
    "true_im = np.asarray(true_im)\n",
    "#com_im = cv2.imread(com_path)\n",
    "decom_im = cv2.imread(decom_path)\n",
    "#decom_im = np.asarray(decom_im)\n",
    "com_im = true_im\n",
    "#decom_im = true_im"
   ]
  },
  {
   "cell_type": "code",
   "execution_count": 24,
   "id": "31e21e1f",
   "metadata": {},
   "outputs": [],
   "source": [
    "true_im_size = os.path.getsize(true_path)\n",
    "com_im_size = os.path.getsize(com_path)\n",
    "\n",
    "compression_ratio = true_im_size / com_im_size\n",
    "compression_factor = 1 / compression_ratio\n",
    "\n"
   ]
  },
  {
   "cell_type": "code",
   "execution_count": 26,
   "id": "d6c3fbee",
   "metadata": {},
   "outputs": [],
   "source": [
    "mse = np.square(np.subtract(true_im,decom_im)).mean()\n",
    "from skimage.metrics import structural_similarity\n",
    "\n",
    "ssim = structural_similarity(\n",
    "    true_im,\n",
    "    decom_im,\n",
    "    data_range=decom_im.max() - decom_im.min(),\n",
    "    channel_axis=-1  # Tells SSIM that the color channels are on the last axis\n",
    ")\n",
    "\n",
    "psnr = get_psnr(true_im ,decom_im)\n"
   ]
  },
  {
   "cell_type": "code",
   "execution_count": 28,
   "id": "16cf5f2c",
   "metadata": {},
   "outputs": [
    {
     "name": "stdout",
     "output_type": "stream",
     "text": [
      "compression ratio: 1.0 compression factor: 1.0 mse: 0.0 ssim: 1.0 psnr: inf\n"
     ]
    }
   ],
   "source": [
    "print('compression ratio:', compression_ratio,\n",
    "      'compression factor:', compression_factor,\n",
    "      'mse:', mse,\n",
    "      'ssim:', ssim,\n",
    "      'psnr:', psnr)"
   ]
  }
 ],
 "metadata": {
  "kernelspec": {
   "display_name": ".venv",
   "language": "python",
   "name": "python3"
  },
  "language_info": {
   "codemirror_mode": {
    "name": "ipython",
    "version": 3
   },
   "file_extension": ".py",
   "mimetype": "text/x-python",
   "name": "python",
   "nbconvert_exporter": "python",
   "pygments_lexer": "ipython3",
   "version": "3.10.2"
  }
 },
 "nbformat": 4,
 "nbformat_minor": 5
}
